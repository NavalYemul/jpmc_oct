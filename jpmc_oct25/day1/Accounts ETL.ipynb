{
 "cells": [
  {
   "cell_type": "code",
   "execution_count": 0,
   "metadata": {
    "application/vnd.databricks.v1+cell": {
     "cellMetadata": {
      "byteLimit": 2048000,
      "rowLimit": 10000
     },
     "inputWidgets": {},
     "nuid": "4a59887f-36a0-413c-9d1b-5ed504bf69e3",
     "showTitle": false,
     "tableResultSettingsMap": {},
     "title": ""
    }
   },
   "outputs": [],
   "source": [
    "from pyspark.sql.functions import *"
   ]
  },
  {
   "cell_type": "code",
   "execution_count": 0,
   "metadata": {
    "application/vnd.databricks.v1+cell": {
     "cellMetadata": {
      "byteLimit": 2048000,
      "rowLimit": 10000
     },
     "inputWidgets": {},
     "nuid": "5e1e9781-d9f2-4653-a865-7932c6adc376",
     "showTitle": false,
     "tableResultSettingsMap": {},
     "title": ""
    }
   },
   "outputs": [],
   "source": [
    "input_path= \"/Volumes/dev/naval/raw/accounts.json\""
   ]
  },
  {
   "cell_type": "markdown",
   "metadata": {
    "application/vnd.databricks.v1+cell": {
     "cellMetadata": {
      "byteLimit": 2048000,
      "rowLimit": 10000
     },
     "inputWidgets": {},
     "nuid": "afab2f86-fc30-4fef-89a9-1666ec568928",
     "showTitle": false,
     "tableResultSettingsMap": {},
     "title": ""
    }
   },
   "source": [
    "Task:\n",
    "- Step 1: create a df from json\n",
    "- Step 2: transform: \n",
    "-         1. parse the json (hint, use withColumn and .)\n",
    "-         2. add new col ingestion_date (hint, use current_timestamp)\n",
    "-         3. rename col account_id to accountid \n",
    "-         4. drop col created_timestamp\n",
    "- Step 3: save df to delta table (in your schema)"
   ]
  },
  {
   "cell_type": "code",
   "execution_count": 0,
   "metadata": {
    "application/vnd.databricks.v1+cell": {
     "cellMetadata": {
      "byteLimit": 2048000,
      "rowLimit": 10000
     },
     "inputWidgets": {},
     "nuid": "2269f43e-613c-4460-8db4-a670a6b40e55",
     "showTitle": false,
     "tableResultSettingsMap": {},
     "title": ""
    }
   },
   "outputs": [],
   "source": [
    "#df=spark.read.option(\"multiline\",True).json(input_path)"
   ]
  },
  {
   "cell_type": "code",
   "execution_count": 0,
   "metadata": {
    "application/vnd.databricks.v1+cell": {
     "cellMetadata": {
      "byteLimit": 2048000,
      "rowLimit": 10000
     },
     "inputWidgets": {},
     "nuid": "fa1fb610-3a78-44c8-9934-3e2067e4047a",
     "showTitle": false,
     "tableResultSettingsMap": {},
     "title": ""
    }
   },
   "outputs": [],
   "source": [
    "#df1=df\\\n",
    "#.withColumn(\"nominee_name\",col(\"nominee_details.nominee_name\"))\\\n",
    "#.withColumn(\"relationship\",col(\"nominee_details.relationship\"))\\\n",
    "#.withColumn(\"ingestion_date\",current_timestamp())\\\n",
    "#.drop(\"nominee_details\",\"created_timestamp\")"
   ]
  },
  {
   "cell_type": "code",
   "execution_count": 0,
   "metadata": {
    "application/vnd.databricks.v1+cell": {
     "cellMetadata": {
      "byteLimit": 2048000,
      "rowLimit": 10000
     },
     "inputWidgets": {},
     "nuid": "afd702f8-ae78-4a88-a34e-7ca59c946cfc",
     "showTitle": false,
     "tableResultSettingsMap": {},
     "title": ""
    }
   },
   "outputs": [],
   "source": [
    "#df1.write.mode(\"overwrite\").saveAsTable(\"dev.naval.account\")"
   ]
  },
  {
   "cell_type": "code",
   "execution_count": 0,
   "metadata": {
    "application/vnd.databricks.v1+cell": {
     "cellMetadata": {
      "byteLimit": 2048000,
      "rowLimit": 10000
     },
     "inputWidgets": {},
     "nuid": "f6fedaa4-37bc-468b-a116-86815d24984a",
     "showTitle": false,
     "tableResultSettingsMap": {},
     "title": ""
    }
   },
   "outputs": [],
   "source": [
    "# reader\n",
    "df=spark.read.option(\"multiline\",True).json(input_path)\n",
    "\n",
    "\n",
    "# Transformation\n",
    "df1=df\\\n",
    ".withColumn(\"nominee_name\",col(\"nominee_details.nominee_name\"))\\\n",
    ".withColumn(\"relationship\",col(\"nominee_details.relationship\"))\\\n",
    ".withColumn(\"ingestion_date\",current_timestamp())\\\n",
    ".drop(\"nominee_details\",\"created_timestamp\")\n",
    "\n",
    "\n",
    "#Writer\n",
    "df1.write.mode(\"overwrite\").saveAsTable(\"dev.naval.account\")"
   ]
  },
  {
   "cell_type": "code",
   "execution_count": 0,
   "metadata": {
    "application/vnd.databricks.v1+cell": {
     "cellMetadata": {
      "byteLimit": 2048000,
      "implicitDf": true,
      "rowLimit": 10000
     },
     "inputWidgets": {},
     "nuid": "b46d623a-77f5-438e-a3c3-646a4fad31ea",
     "showTitle": false,
     "tableResultSettingsMap": {},
     "title": ""
    }
   },
   "outputs": [],
   "source": [
    "%sql\n",
    "select * from dev.naval.account"
   ]
  }
 ],
 "metadata": {
  "application/vnd.databricks.v1+notebook": {
   "computePreferences": null,
   "dashboards": [],
   "environmentMetadata": {
    "base_environment": "",
    "environment_version": "4"
   },
   "inputWidgetPreferences": null,
   "language": "python",
   "notebookMetadata": {
    "mostRecentlyExecutedCommandWithImplicitDF": {
     "commandId": 7764641555668500,
     "dataframes": [
      "_sqldf"
     ]
    },
    "pythonIndentUnit": 4
   },
   "notebookName": "Accounts ETL",
   "widgets": {}
  },
  "language_info": {
   "name": "python"
  }
 },
 "nbformat": 4,
 "nbformat_minor": 0
}
