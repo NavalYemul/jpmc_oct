{
 "cells": [
  {
   "cell_type": "code",
   "execution_count": 0,
   "metadata": {
    "application/vnd.databricks.v1+cell": {
     "cellMetadata": {},
     "inputWidgets": {},
     "nuid": "b48a8f17-4dc3-40ea-91b1-e992485b303d",
     "showTitle": false,
     "tableResultSettingsMap": {},
     "title": ""
    }
   },
   "outputs": [],
   "source": [
    "https://github.com/syedghousuddin55-coder/databricstrainingIceberg-Oct/tree/main/jpmc_dbtraining_Oct/day3/ECOM-E2E-PIPELINE"
   ]
  },
  {
   "cell_type": "code",
   "execution_count": 0,
   "metadata": {
    "application/vnd.databricks.v1+cell": {
     "cellMetadata": {},
     "inputWidgets": {},
     "nuid": "7152465d-91ff-4a4e-83de-0cc22d1f0661",
     "showTitle": false,
     "tableResultSettingsMap": {},
     "title": ""
    }
   },
   "outputs": [],
   "source": [
    "batch\n",
    "\n",
    "df=spark.read.csv(\"path\")\n",
    "df.write.mode(\"append\").saveAsTable(\"tblname\")\n",
    "\n",
    "\n",
    "\n",
    "Apache spark structured streaming\n",
    "read only once \n",
    "\n",
    "df=spark.readStream.csv(\"path\")\n",
    "df.writeStream.toTable(\"tblname\")\n",
    "\n",
    "\n",
    "Autoloader( Structured streaming)\n",
    "\n",
    "\n",
    "\n",
    "\n",
    "lakeflow d Pipelines(formly DLT Delta live tables)\n",
    "open source, apache spark "
   ]
  }
 ],
 "metadata": {
  "application/vnd.databricks.v1+notebook": {
   "computePreferences": null,
   "dashboards": [],
   "environmentMetadata": {
    "base_environment": "",
    "environment_version": "4"
   },
   "inputWidgetPreferences": null,
   "language": "sql",
   "notebookMetadata": {
    "pythonIndentUnit": 4
   },
   "notebookName": "Untitled Notebook 2025-10-29 15_09_29",
   "widgets": {}
  },
  "language_info": {
   "name": "sql"
  }
 },
 "nbformat": 4,
 "nbformat_minor": 0
}
