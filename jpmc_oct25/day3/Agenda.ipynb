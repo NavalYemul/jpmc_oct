{
 "cells": [
  {
   "cell_type": "code",
   "execution_count": 0,
   "metadata": {
    "application/vnd.databricks.v1+cell": {
     "cellMetadata": {},
     "inputWidgets": {},
     "nuid": "4ae6a8fb-7cff-4c9f-a173-783ed2706a33",
     "showTitle": false,
     "tableResultSettingsMap": {},
     "title": ""
    }
   },
   "outputs": [],
   "source": [
    "Databricks certification\n",
    "\n",
    "Databricks SQL \n",
    "unity Catalog (governace)\n",
    "\n",
    "Pipeline(streaming, autoloader)\n",
    "DABs\n",
    "\n",
    "Databricks free edition\n",
    "\n",
    "\n",
    "Delta sharing\n",
    "lakehouse federation \n",
    "\n"
   ]
  }
 ],
 "metadata": {
  "application/vnd.databricks.v1+notebook": {
   "computePreferences": null,
   "dashboards": [],
   "environmentMetadata": {
    "base_environment": "",
    "environment_version": "4"
   },
   "inputWidgetPreferences": null,
   "language": "sql",
   "notebookMetadata": {},
   "notebookName": "Agenda",
   "widgets": {}
  },
  "language_info": {
   "name": "sql"
  }
 },
 "nbformat": 4,
 "nbformat_minor": 0
}
